{
 "cells": [
  {
   "cell_type": "code",
   "execution_count": null,
   "metadata": {},
   "outputs": [],
   "source": [
    "import matplotlib.pyplot as plt\n",
    "import tensorflow as tf\n",
    "\n",
    "import config\n",
    "import models.autoencoder\n",
    "import models.cyclegan\n",
    "import plot_loss_history\n",
    "import util\n",
    "\n",
    "plt.style.use('bmh')\n",
    "\n",
    "%reload_ext autoreload\n",
    "%autoreload 2"
   ]
  },
  {
   "cell_type": "markdown",
   "metadata": {},
   "source": [
    "## Plot losses."
   ]
  },
  {
   "cell_type": "code",
   "execution_count": null,
   "metadata": {},
   "outputs": [],
   "source": [
    "model_key = '2020-05-22T23:58:01'\n",
    "\n",
    "plot_loss_history.plot_losses(model_key, min_epoch=2, log=True, max_epoch=50)"
   ]
  },
  {
   "cell_type": "code",
   "execution_count": null,
   "metadata": {},
   "outputs": [],
   "source": [
    "model_key = '2020-05-26T22:40:22'\n",
    "\n",
    "plot_loss_history.plot_losses(model_key, min_epoch=2, log=True)"
   ]
  },
  {
   "cell_type": "code",
   "execution_count": null,
   "metadata": {},
   "outputs": [],
   "source": [
    "model_key = '2020-05-27T03:21:01'\n",
    "\n",
    "plot_loss_history.plot_losses(model_key, min_epoch=1, log=True)"
   ]
  },
  {
   "cell_type": "code",
   "execution_count": null,
   "metadata": {},
   "outputs": [],
   "source": [
    "model_key = '2020-05-27T18:01:17'\n",
    "\n",
    "plot_loss_history.plot_losses(model_key, min_epoch=1, log=True)"
   ]
  },
  {
   "cell_type": "code",
   "execution_count": null,
   "metadata": {},
   "outputs": [],
   "source": [
    "model_key = '2020-05-27T19:09:56'\n",
    "\n",
    "plot_loss_history.plot_losses(model_key, min_epoch=1, log=True)"
   ]
  },
  {
   "cell_type": "code",
   "execution_count": null,
   "metadata": {},
   "outputs": [],
   "source": [
    "model_key = '2020-05-28T04:07:10'\n",
    "\n",
    "plot_loss_history.plot_losses(model_key, min_epoch=50)"
   ]
  },
  {
   "cell_type": "code",
   "execution_count": null,
   "metadata": {},
   "outputs": [],
   "source": [
    "model_key = '2020-05-28T12:28:08'\n",
    "\n",
    "plot_loss_history.plot_losses(model_key, min_epoch=50)"
   ]
  },
  {
   "cell_type": "code",
   "execution_count": null,
   "metadata": {},
   "outputs": [],
   "source": [
    "model_key = '2020-05-28T17:09:11'\n",
    "\n",
    "plot_loss_history.plot_losses(model_key, min_epoch=50)"
   ]
  },
  {
   "cell_type": "code",
   "execution_count": null,
   "metadata": {},
   "outputs": [],
   "source": [
    "model_key = '2020-05-28T18:37:49'\n",
    "\n",
    "plot_loss_history.plot_losses(model_key, min_epoch=50)"
   ]
  },
  {
   "cell_type": "markdown",
   "metadata": {},
   "source": [
    "## Inspect model architecture."
   ]
  },
  {
   "cell_type": "code",
   "execution_count": null,
   "metadata": {},
   "outputs": [],
   "source": [
    "model_config = config.cyclegan_config_from_json('panzer_schaeferhund.json')\n",
    "model = models.cyclegan.CycleGAN(model_config)"
   ]
  },
  {
   "cell_type": "code",
   "execution_count": null,
   "metadata": {},
   "outputs": [],
   "source": [
    "model.D['A'].summary()"
   ]
  },
  {
   "cell_type": "code",
   "execution_count": null,
   "metadata": {},
   "outputs": [],
   "source": [
    "util.plot_model_svg(model.D_A, dpi=50, expand_nested=True, show_shapes=True)"
   ]
  },
  {
   "cell_type": "code",
   "execution_count": null,
   "metadata": {},
   "outputs": [],
   "source": [
    "model.G_single['A'].summary()"
   ]
  },
  {
   "cell_type": "code",
   "execution_count": null,
   "metadata": {},
   "outputs": [],
   "source": [
    "util.plot_model_svg(model.G_single['A'], dpi=50, show_shapes=True)"
   ]
  },
  {
   "cell_type": "code",
   "execution_count": null,
   "metadata": {},
   "outputs": [],
   "source": [
    "model.G.summary()"
   ]
  },
  {
   "cell_type": "code",
   "execution_count": null,
   "metadata": {},
   "outputs": [],
   "source": [
    "model_config = config.autoencoder_config_from_json('panzer_schaeferhund_autoencoder_adain.json')\n",
    "model = models.autoencoder.AutoEncoder(model_config)\n",
    "\n",
    "print(model.encoder.count_params())\n",
    "print(model.decoder.count_params())\n",
    "\n",
    "display(util.plot_model_svg(model.encoder, dpi=40, show_shapes=True))\n",
    "display(util.plot_model_svg(model.decoder, dpi=40, show_shapes=True))"
   ]
  },
  {
   "cell_type": "code",
   "execution_count": null,
   "metadata": {},
   "outputs": [],
   "source": [
    "model_config = config.autoencoder_config_from_json('panzer_schaeferhund_autoencoder_cnn_sampling.json')\n",
    "model = models.autoencoder.AutoEncoder(model_config)\n",
    "\n",
    "print(model.encoder.count_params())\n",
    "print(model.decoder.count_params())\n",
    "\n",
    "display(util.plot_model_svg(model.encoder, dpi=40, show_shapes=True))\n",
    "display(util.plot_model_svg(model.decoder, dpi=40, show_shapes=True))"
   ]
  },
  {
   "cell_type": "code",
   "execution_count": null,
   "metadata": {},
   "outputs": [],
   "source": []
  }
 ],
 "metadata": {
  "kernelspec": {
   "display_name": "Python 3.7.6 64-bit ('cyclegan': virtualenv)",
   "language": "python",
   "name": "python37664bitcycleganvirtualenv31a63a8c18fd4caeae1a5d5a64e6a38b"
  },
  "language_info": {
   "codemirror_mode": {
    "name": "ipython",
    "version": 3
   },
   "file_extension": ".py",
   "mimetype": "text/x-python",
   "name": "python",
   "nbconvert_exporter": "python",
   "pygments_lexer": "ipython3",
   "version": "3.7.6-final"
  }
 },
 "nbformat": 4,
 "nbformat_minor": 4
}