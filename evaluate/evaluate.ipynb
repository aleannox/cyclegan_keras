{
 "cells": [
  {
   "cell_type": "code",
   "execution_count": null,
   "metadata": {},
   "outputs": [],
   "source": [
    "import re\n",
    "import time\n",
    "\n",
    "import pandas as pd\n",
    "import matplotlib.pyplot as plt\n",
    "import MulticoreTSNE\n",
    "import sklearn.decomposition\n",
    "import tensorflow as tf\n",
    "\n",
    "import config\n",
    "import models.autoencoder\n",
    "import models.cyclegan\n",
    "import plot_loss_history\n",
    "import util\n",
    "\n",
    "plt.style.use('bmh')\n",
    "\n",
    "%reload_ext autoreload\n",
    "%autoreload 2"
   ]
  },
  {
   "cell_type": "markdown",
   "metadata": {},
   "source": [
    "## Plot losses."
   ]
  },
  {
   "cell_type": "code",
   "execution_count": null,
   "metadata": {},
   "outputs": [],
   "source": [
    "model_key = '2020-05-22T23:58:01'\n",
    "\n",
    "plot_loss_history.plot_losses(model_key, min_epoch=2, log=True, max_epoch=50)"
   ]
  },
  {
   "cell_type": "code",
   "execution_count": null,
   "metadata": {},
   "outputs": [],
   "source": [
    "model_key = '2020-05-26T22:40:22'\n",
    "\n",
    "plot_loss_history.plot_losses(model_key, min_epoch=2, log=True)"
   ]
  },
  {
   "cell_type": "code",
   "execution_count": null,
   "metadata": {},
   "outputs": [],
   "source": [
    "model_key = '2020-05-27T03:21:01'\n",
    "\n",
    "plot_loss_history.plot_losses(model_key, min_epoch=1, log=True)"
   ]
  },
  {
   "cell_type": "code",
   "execution_count": null,
   "metadata": {},
   "outputs": [],
   "source": [
    "model_key = '2020-05-27T18:01:17'\n",
    "\n",
    "plot_loss_history.plot_losses(model_key, min_epoch=1, log=True)"
   ]
  },
  {
   "cell_type": "code",
   "execution_count": null,
   "metadata": {},
   "outputs": [],
   "source": [
    "model_key = '2020-05-27T19:09:56'\n",
    "\n",
    "plot_loss_history.plot_losses(model_key, min_epoch=1, log=True)"
   ]
  },
  {
   "cell_type": "code",
   "execution_count": null,
   "metadata": {},
   "outputs": [],
   "source": [
    "model_key = '2020-05-28T04:07:10'\n",
    "\n",
    "plot_loss_history.plot_losses(model_key, min_epoch=50)"
   ]
  },
  {
   "cell_type": "code",
   "execution_count": null,
   "metadata": {},
   "outputs": [],
   "source": [
    "model_key = '2020-05-28T12:28:08'\n",
    "\n",
    "plot_loss_history.plot_losses(model_key, min_epoch=50)"
   ]
  },
  {
   "cell_type": "code",
   "execution_count": null,
   "metadata": {},
   "outputs": [],
   "source": [
    "model_key = '2020-05-28T17:09:11'\n",
    "\n",
    "plot_loss_history.plot_losses(model_key, min_epoch=50)"
   ]
  },
  {
   "cell_type": "code",
   "execution_count": null,
   "metadata": {},
   "outputs": [],
   "source": [
    "model_key = '2020-05-28T18:37:49'\n",
    "\n",
    "plot_loss_history.plot_losses(model_key, min_epoch=50)"
   ]
  },
  {
   "cell_type": "code",
   "execution_count": null,
   "metadata": {},
   "outputs": [],
   "source": [
    "model_key = '2020-05-29T07:18:15'\n",
    "\n",
    "plot_loss_history.plot_losses(model_key, min_epoch=50)"
   ]
  },
  {
   "cell_type": "markdown",
   "metadata": {},
   "source": [
    "## Inspect model architecture."
   ]
  },
  {
   "cell_type": "code",
   "execution_count": null,
   "metadata": {},
   "outputs": [],
   "source": [
    "model_config = config.cyclegan_config_from_json('panzer_schaeferhund.json')\n",
    "model = models.cyclegan.CycleGAN(model_config)"
   ]
  },
  {
   "cell_type": "code",
   "execution_count": null,
   "metadata": {},
   "outputs": [],
   "source": [
    "model.D['A'].summary()"
   ]
  },
  {
   "cell_type": "code",
   "execution_count": null,
   "metadata": {},
   "outputs": [],
   "source": [
    "util.plot_model_svg(model.D_A, dpi=50, expand_nested=True, show_shapes=True)"
   ]
  },
  {
   "cell_type": "code",
   "execution_count": null,
   "metadata": {},
   "outputs": [],
   "source": [
    "model.G_single['A'].summary()"
   ]
  },
  {
   "cell_type": "code",
   "execution_count": null,
   "metadata": {},
   "outputs": [],
   "source": [
    "util.plot_model_svg(model.G_single['A'], dpi=50, show_shapes=True)"
   ]
  },
  {
   "cell_type": "code",
   "execution_count": null,
   "metadata": {},
   "outputs": [],
   "source": [
    "model.G.summary()"
   ]
  },
  {
   "cell_type": "code",
   "execution_count": null,
   "metadata": {},
   "outputs": [],
   "source": [
    "model_config = config.autoencoder_config_from_json('panzer_schaeferhund_autoencoder_adain.json')\n",
    "model = models.autoencoder.AutoEncoder(model_config)\n",
    "\n",
    "print(model.encoder.count_params())\n",
    "print(model.decoder.count_params())\n",
    "\n",
    "display(util.plot_model_svg(model.encoder, dpi=40, show_shapes=True))\n",
    "display(util.plot_model_svg(model.decoder, dpi=40, show_shapes=True))"
   ]
  },
  {
   "cell_type": "code",
   "execution_count": null,
   "metadata": {},
   "outputs": [],
   "source": [
    "model_config = config.autoencoder_config_from_json('panzer_schaeferhund_autoencoder_cnn_both.json')\n",
    "model = models.autoencoder.AutoEncoder(model_config)\n",
    "\n",
    "model.encoder.summary()\n",
    "print(model.decoder.count_params())\n",
    "\n",
    "display(util.plot_model_svg(model.encoder, dpi=40, show_shapes=True))\n",
    "display(util.plot_model_svg(model.decoder, dpi=40, show_shapes=True))"
   ]
  },
  {
   "cell_type": "markdown",
   "metadata": {},
   "source": [
    "## Inspect autoencoded images"
   ]
  },
  {
   "cell_type": "code",
   "execution_count": null,
   "metadata": {},
   "outputs": [],
   "source": [
    "def plot_encoded(model_key):\n",
    "    result_paths = config.construct_result_paths(model_key=model_key)\n",
    "\n",
    "    REGEX_FOLD_DOMAIN = re.compile('(train|test)_([AB])')\n",
    "    REGEX_FOLD_DOMAIN.findall(to_save['path'][0])\n",
    "\n",
    "    def extract_domain(path_str):\n",
    "        _, domain = REGEX_FOLD_DOMAIN.findall(path_str)[0]\n",
    "        return domain\n",
    "\n",
    "    encoded = pd.read_parquet(result_paths.encoded_images['A'] / 'encoded.parquet')\n",
    "    encoded['domain'] = encoded['path'].apply(extract_domain)\n",
    "\n",
    "    stds_to_plot = 3\n",
    "    z = util.pandas_series_to_numpy(encoded['z'])\n",
    "\n",
    "    def scatterplot(method):\n",
    "        _, ax = plt.subplots(figsize=(10, 10))\n",
    "        z = util.pandas_series_to_numpy(encoded[f'z_{method}'])\n",
    "        x, y = z[:, 0], z[:, 1]\n",
    "        x_min = x.mean() - stds_to_plot * x.std()\n",
    "        x_max = x.mean() + stds_to_plot * x.std()\n",
    "        y_min = y.mean() - stds_to_plot * y.std()\n",
    "        y_max = y.mean() + stds_to_plot * y.std()\n",
    "        for domain in config.DOMAINS:\n",
    "            z = util.pandas_series_to_numpy(encoded[encoded['domain'] == domain][f'z_{method}'])\n",
    "            x, y = z[:, 0], z[:, 1]\n",
    "            ax.scatter(\n",
    "                x=x,\n",
    "                y=y,\n",
    "                label=domain,\n",
    "                alpha=0.5,\n",
    "                s=0.5\n",
    "            )\n",
    "        ax.legend()\n",
    "        ax.set_xlim((x_min, x_max))\n",
    "        ax.set_ylim((y_min, y_max))\n",
    "        ax.set_title(method)\n",
    "        plt.savefig(result_paths.encoded_images['A'] / f'{method}.pdf')\n",
    "\n",
    "    pca = sklearn.decomposition.PCA(n_components=2)\n",
    "    z_pca = pca.fit_transform(z)\n",
    "    encoded['z_pca'] = list(z_pca)\n",
    "    scatterplot('pca')\n",
    "    \n",
    "    print(\"computing TSNE ...\")\n",
    "    start = time.time()\n",
    "    tsne = MulticoreTSNE.MulticoreTSNE(\n",
    "        n_components=2, random_state=42, n_jobs=8\n",
    "    )\n",
    "    z_tsne = tsne.fit_transform(z)\n",
    "    encoded['z_tsne'] = list(z_tsne)\n",
    "    print(f\"... finished in {time.time() - start:.0f}s\")\n",
    "    scatterplot('tsne')"
   ]
  },
  {
   "cell_type": "code",
   "execution_count": null,
   "metadata": {},
   "outputs": [],
   "source": [
    "plot_encoded('2020-05-29T11:23:02')"
   ]
  },
  {
   "cell_type": "code",
   "execution_count": null,
   "metadata": {},
   "outputs": [],
   "source": [
    "plot_encoded('2020-05-29T14:41:58')"
   ]
  },
  {
   "cell_type": "code",
   "execution_count": null,
   "metadata": {},
   "outputs": [],
   "source": []
  }
 ],
 "metadata": {
  "kernelspec": {
   "display_name": "Python 3.7.6 64-bit ('cyclegan': virtualenv)",
   "language": "python",
   "name": "python37664bitcycleganvirtualenv31a63a8c18fd4caeae1a5d5a64e6a38b"
  },
  "language_info": {
   "codemirror_mode": {
    "name": "ipython",
    "version": 3
   },
   "file_extension": ".py",
   "mimetype": "text/x-python",
   "name": "python",
   "nbconvert_exporter": "python",
   "pygments_lexer": "ipython3",
   "version": "3.7.6-final"
  }
 },
 "nbformat": 4,
 "nbformat_minor": 4
}